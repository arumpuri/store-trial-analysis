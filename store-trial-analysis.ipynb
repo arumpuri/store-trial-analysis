{
 "cells": [
  {
   "cell_type": "code",
   "execution_count": 1,
   "metadata": {
    "_cell_guid": "b1076dfc-b9ad-4769-8c92-a6c4dae69d19",
    "_uuid": "8f2839f25d086af736a60e9eeb907d3b93b6e0e5",
    "execution": {
     "iopub.execute_input": "2025-02-13T03:45:49.316648Z",
     "iopub.status.busy": "2025-02-13T03:45:49.316267Z",
     "iopub.status.idle": "2025-02-13T03:45:50.732019Z",
     "shell.execute_reply": "2025-02-13T03:45:50.730861Z",
     "shell.execute_reply.started": "2025-02-13T03:45:49.316604Z"
    }
   },
   "outputs": [
    {
     "name": "stdout",
     "output_type": "stream",
     "text": [
      "/kaggle/input/store-data-again/QVI_data.csv\n"
     ]
    }
   ],
   "source": [
    "# This Python 3 environment comes with many helpful analytics libraries installed\n",
    "# It is defined by the kaggle/python Docker image: https://github.com/kaggle/docker-python\n",
    "# For example, here's several helpful packages to load\n",
    "\n",
    "import pandas as pd\n",
    "import numpy as np\n",
    "import matplotlib.pyplot as plt\n",
    "import seaborn as sns\n",
    "from datetime import datetime\n",
    "# Input data files are available in the read-only \"../input/\" directory\n",
    "# For example, running this (by clicking run or pressing Shift+Enter) will list all files under the input directory\n",
    "\n",
    "import os\n",
    "for dirname, _, filenames in os.walk('/kaggle/input'):\n",
    "    for filename in filenames:\n",
    "        print(os.path.join(dirname, filename))\n",
    "\n",
    "# You can write up to 20GB to the current directory (/kaggle/working/) that gets preserved as output when you create a version using \"Save & Run All\" \n",
    "# You can also write temporary files to /kaggle/temp/, but they won't be saved outside of the current session"
   ]
  },
  {
   "cell_type": "code",
   "execution_count": 2,
   "metadata": {
    "execution": {
     "iopub.execute_input": "2025-02-13T03:45:50.733345Z",
     "iopub.status.busy": "2025-02-13T03:45:50.732930Z",
     "iopub.status.idle": "2025-02-13T03:45:50.737846Z",
     "shell.execute_reply": "2025-02-13T03:45:50.736661Z",
     "shell.execute_reply.started": "2025-02-13T03:45:50.733318Z"
    }
   },
   "outputs": [],
   "source": [
    "# Load the data\n",
    "# df = pd.read_csv('../input/store-data-again/QVI_data.csv')"
   ]
  },
  {
   "cell_type": "code",
   "execution_count": 3,
   "metadata": {
    "execution": {
     "iopub.execute_input": "2025-02-13T03:45:50.739496Z",
     "iopub.status.busy": "2025-02-13T03:45:50.739135Z",
     "iopub.status.idle": "2025-02-13T03:45:50.759132Z",
     "shell.execute_reply": "2025-02-13T03:45:50.757959Z",
     "shell.execute_reply.started": "2025-02-13T03:45:50.739460Z"
    }
   },
   "outputs": [],
   "source": [
    "# # look at the first five rows of the nfl_data file. \n",
    "# df.head()"
   ]
  },
  {
   "cell_type": "code",
   "execution_count": 4,
   "metadata": {
    "execution": {
     "iopub.execute_input": "2025-02-13T03:45:50.762246Z",
     "iopub.status.busy": "2025-02-13T03:45:50.761864Z",
     "iopub.status.idle": "2025-02-13T03:45:50.776759Z",
     "shell.execute_reply": "2025-02-13T03:45:50.775565Z",
     "shell.execute_reply.started": "2025-02-13T03:45:50.762211Z"
    }
   },
   "outputs": [],
   "source": [
    "# # get the number of missing data points per column\n",
    "# missing_values_count = df.isnull().sum()\n",
    "\n",
    "# # look at the # of missing points in the first ten columns\n",
    "# missing_values_count[0:-1]"
   ]
  },
  {
   "cell_type": "code",
   "execution_count": 5,
   "metadata": {
    "execution": {
     "iopub.execute_input": "2025-02-13T03:45:50.778989Z",
     "iopub.status.busy": "2025-02-13T03:45:50.778578Z",
     "iopub.status.idle": "2025-02-13T03:45:50.797580Z",
     "shell.execute_reply": "2025-02-13T03:45:50.796384Z",
     "shell.execute_reply.started": "2025-02-13T03:45:50.778948Z"
    }
   },
   "outputs": [],
   "source": [
    "# # check accident data info\n",
    "# df.info()"
   ]
  },
  {
   "cell_type": "code",
   "execution_count": 6,
   "metadata": {
    "execution": {
     "iopub.execute_input": "2025-02-13T03:45:50.798988Z",
     "iopub.status.busy": "2025-02-13T03:45:50.798631Z",
     "iopub.status.idle": "2025-02-13T03:45:50.819960Z",
     "shell.execute_reply": "2025-02-13T03:45:50.818790Z",
     "shell.execute_reply.started": "2025-02-13T03:45:50.798953Z"
    }
   },
   "outputs": [],
   "source": [
    "# # Convert DATE column to datetime\n",
    "# df['DATE'] = pd.to_datetime(df['DATE'], format='%Y-%m-%d')  # Match your data's date format\n",
    "\n",
    "# # Now create YEARMONTH safely\n",
    "# df['YEARMONTH'] = df['DATE'].dt.year * 100 + df['DATE'].dt.month"
   ]
  },
  {
   "cell_type": "code",
   "execution_count": 7,
   "metadata": {
    "execution": {
     "iopub.execute_input": "2025-02-13T03:45:50.821325Z",
     "iopub.status.busy": "2025-02-13T03:45:50.820972Z",
     "iopub.status.idle": "2025-02-13T03:45:52.936679Z",
     "shell.execute_reply": "2025-02-13T03:45:52.935839Z",
     "shell.execute_reply.started": "2025-02-13T03:45:50.821289Z"
    }
   },
   "outputs": [],
   "source": [
    "# Read and prepare data\n",
    "df = pd.read_csv('../input/store-data-again/QVI_data.csv')\n",
    "df['DATE'] = pd.to_datetime(df['DATE'])\n",
    "df['YEARMONTH'] = df['DATE'].dt.strftime('%Y%m')"
   ]
  },
  {
   "cell_type": "code",
   "execution_count": 8,
   "metadata": {
    "execution": {
     "iopub.execute_input": "2025-02-13T03:45:52.937998Z",
     "iopub.status.busy": "2025-02-13T03:45:52.937693Z",
     "iopub.status.idle": "2025-02-13T03:45:53.021064Z",
     "shell.execute_reply": "2025-02-13T03:45:53.020036Z",
     "shell.execute_reply.started": "2025-02-13T03:45:52.937972Z"
    }
   },
   "outputs": [],
   "source": [
    "# Calculate metrics by store and month\n",
    "metrics = df.groupby(['STORE_NBR', 'YEARMONTH']).agg({\n",
    "    'TOT_SALES': 'sum',\n",
    "    'LYLTY_CARD_NBR': 'nunique',\n",
    "    'TXN_ID': 'nunique'\n",
    "}).reset_index()"
   ]
  },
  {
   "cell_type": "code",
   "execution_count": 9,
   "metadata": {
    "execution": {
     "iopub.execute_input": "2025-02-13T03:45:53.022471Z",
     "iopub.status.busy": "2025-02-13T03:45:53.022125Z",
     "iopub.status.idle": "2025-02-13T03:45:53.028569Z",
     "shell.execute_reply": "2025-02-13T03:45:53.027466Z",
     "shell.execute_reply.started": "2025-02-13T03:45:53.022440Z"
    }
   },
   "outputs": [],
   "source": [
    "metrics.columns = ['STORE_NBR', 'YEARMONTH', 'totSales', 'nCustomers', 'nTransactions']\n",
    "metrics['nTxnPerCust'] = metrics['nTransactions'] / metrics['nCustomers']\n"
   ]
  },
  {
   "cell_type": "code",
   "execution_count": 10,
   "metadata": {
    "execution": {
     "iopub.execute_input": "2025-02-13T03:45:53.030006Z",
     "iopub.status.busy": "2025-02-13T03:45:53.029639Z",
     "iopub.status.idle": "2025-02-13T03:45:53.048981Z",
     "shell.execute_reply": "2025-02-13T03:45:53.048026Z",
     "shell.execute_reply.started": "2025-02-13T03:45:53.029971Z"
    }
   },
   "outputs": [],
   "source": [
    "# Define trial stores and period\n",
    "trial_stores = [77, 86, 88]\n",
    "trial_period = ['201902', '201904']  # Feb 2019 to Apr 2019\n"
   ]
  },
  {
   "cell_type": "code",
   "execution_count": 11,
   "metadata": {
    "execution": {
     "iopub.execute_input": "2025-02-13T03:45:53.050604Z",
     "iopub.status.busy": "2025-02-13T03:45:53.050124Z",
     "iopub.status.idle": "2025-02-13T03:45:53.069671Z",
     "shell.execute_reply": "2025-02-13T03:45:53.068706Z",
     "shell.execute_reply.started": "2025-02-13T03:45:53.050516Z"
    }
   },
   "outputs": [],
   "source": [
    "# For each trial store, we'll analyze step by step\n",
    "trial_store = trial_stores[0]  # Let's start with the first trial store\n"
   ]
  },
  {
   "cell_type": "code",
   "execution_count": 12,
   "metadata": {
    "execution": {
     "iopub.execute_input": "2025-02-13T03:45:53.071232Z",
     "iopub.status.busy": "2025-02-13T03:45:53.070863Z",
     "iopub.status.idle": "2025-02-13T03:45:53.091702Z",
     "shell.execute_reply": "2025-02-13T03:45:53.090640Z",
     "shell.execute_reply.started": "2025-02-13T03:45:53.071205Z"
    }
   },
   "outputs": [],
   "source": [
    "# Step 1: Calculate correlations\n",
    "store_numbers = metrics['STORE_NBR'].unique()\n",
    "corr_sales = pd.DataFrame(columns=['Store1', 'Store2', 'corr_measure'])\n",
    "corr_customers = pd.DataFrame(columns=['Store1', 'Store2', 'corr_measure'])\n"
   ]
  },
  {
   "cell_type": "code",
   "execution_count": 14,
   "metadata": {
    "execution": {
     "iopub.execute_input": "2025-02-13T03:52:29.623882Z",
     "iopub.status.busy": "2025-02-13T03:52:29.623454Z",
     "iopub.status.idle": "2025-02-13T03:52:30.342122Z",
     "shell.execute_reply": "2025-02-13T03:52:30.340924Z",
     "shell.execute_reply.started": "2025-02-13T03:52:29.623851Z"
    }
   },
   "outputs": [],
   "source": [
    "# Calculate correlations for sales\n",
    "for store in store_numbers:\n",
    "    if store != trial_store:\n",
    "        # Create a merged dataset to ensure alignment\n",
    "        store_data = metrics[metrics['STORE_NBR'].isin([trial_store, store])].pivot(\n",
    "            index='YEARMONTH',\n",
    "            columns='STORE_NBR',\n",
    "            values='totSales'\n",
    "        )\n",
    "        \n",
    "        # Calculate correlation only if we have data for both stores\n",
    "        if not store_data.empty and store_data.shape[1] == 2:\n",
    "            correlation = store_data.corr().iloc[0,1]\n",
    "            \n",
    "            corr_sales = pd.concat([corr_sales, \n",
    "                                  pd.DataFrame({'Store1': [trial_store],\n",
    "                                              'Store2': [store],\n",
    "                                              'corr_measure': [correlation]})],\n",
    "                                 ignore_index=True)"
   ]
  },
  {
   "cell_type": "code",
   "execution_count": 16,
   "metadata": {
    "execution": {
     "iopub.execute_input": "2025-02-13T03:54:27.467162Z",
     "iopub.status.busy": "2025-02-13T03:54:27.466829Z",
     "iopub.status.idle": "2025-02-13T03:54:28.207337Z",
     "shell.execute_reply": "2025-02-13T03:54:28.206048Z",
     "shell.execute_reply.started": "2025-02-13T03:54:27.467136Z"
    }
   },
   "outputs": [],
   "source": [
    "# Calculate correlations for customers\n",
    "for store in store_numbers:\n",
    "    if store != trial_store:\n",
    "        # Create a merged dataset to ensure alignment\n",
    "        store_data = metrics[metrics['STORE_NBR'].isin([trial_store, store])].pivot(\n",
    "            index='YEARMONTH',\n",
    "            columns='STORE_NBR',\n",
    "            values='nCustomers'\n",
    "        )\n",
    "        \n",
    "        # Calculate correlation only if we have data for both stores\n",
    "        if not store_data.empty and store_data.shape[1] == 2:\n",
    "            correlation = store_data.corr().iloc[0,1]\n",
    "            \n",
    "            corr_customers = pd.concat([corr_customers, \n",
    "                                      pd.DataFrame({'Store1': [trial_store],\n",
    "                                                  'Store2': [store],\n",
    "                                                  'corr_measure': [correlation]})],\n",
    "                                     ignore_index=True)"
   ]
  },
  {
   "cell_type": "code",
   "execution_count": 17,
   "metadata": {
    "execution": {
     "iopub.execute_input": "2025-02-13T03:54:33.519010Z",
     "iopub.status.busy": "2025-02-13T03:54:33.518674Z",
     "iopub.status.idle": "2025-02-13T03:54:33.525429Z",
     "shell.execute_reply": "2025-02-13T03:54:33.524251Z",
     "shell.execute_reply.started": "2025-02-13T03:54:33.518984Z"
    }
   },
   "outputs": [],
   "source": [
    "# Step 2: Calculate magnitude distances\n",
    "mag_sales = pd.DataFrame(columns=['Store1', 'Store2', 'YEARMONTH', 'measure'])\n",
    "mag_customers = pd.DataFrame(columns=['Store1', 'Store2', 'YEARMONTH', 'measure'])\n"
   ]
  },
  {
   "cell_type": "code",
   "execution_count": 19,
   "metadata": {
    "execution": {
     "iopub.execute_input": "2025-02-13T03:58:19.895329Z",
     "iopub.status.busy": "2025-02-13T03:58:19.894934Z",
     "iopub.status.idle": "2025-02-13T03:58:20.353680Z",
     "shell.execute_reply": "2025-02-13T03:58:20.352605Z",
     "shell.execute_reply.started": "2025-02-13T03:58:19.895295Z"
    }
   },
   "outputs": [],
   "source": [
    "# Calculate for sales using pivot and vectorized operations\n",
    "# First create a pivot table for easier comparison\n",
    "sales_pivot = metrics.pivot(\n",
    "    index='YEARMONTH',\n",
    "    columns='STORE_NBR',\n",
    "    values='totSales'\n",
    ").reset_index()\n",
    "\n",
    "# For each comparison store\n",
    "for store in store_numbers:\n",
    "    if store != trial_store:\n",
    "        # Get the data where both stores have values\n",
    "        valid_data = sales_pivot[['YEARMONTH', trial_store, store]].dropna()\n",
    "        \n",
    "        if not valid_data.empty:\n",
    "            # Calculate absolute differences\n",
    "            differences = abs(valid_data[trial_store] - valid_data[store])\n",
    "            \n",
    "            # Create comparison DataFrame\n",
    "            comparison_df = pd.DataFrame({\n",
    "                'Store1': trial_store,\n",
    "                'Store2': store,\n",
    "                'YEARMONTH': valid_data['YEARMONTH'],\n",
    "                'measure': differences\n",
    "            })\n",
    "            \n",
    "            # Concatenate with existing results\n",
    "            mag_sales = pd.concat([mag_sales, comparison_df], ignore_index=True)\n",
    "\n"
   ]
  },
  {
   "cell_type": "code",
   "execution_count": 20,
   "metadata": {
    "execution": {
     "iopub.execute_input": "2025-02-13T03:58:24.771682Z",
     "iopub.status.busy": "2025-02-13T03:58:24.771300Z",
     "iopub.status.idle": "2025-02-13T03:58:24.800169Z",
     "shell.execute_reply": "2025-02-13T03:58:24.798931Z",
     "shell.execute_reply.started": "2025-02-13T03:58:24.771652Z"
    }
   },
   "outputs": [],
   "source": [
    "# Standardize sales magnitude\n",
    "min_max_sales = mag_sales.groupby(['Store1', 'YEARMONTH'])['measure'].agg(['min', 'max']).reset_index()\n",
    "mag_sales = mag_sales.merge(min_max_sales, on=['Store1', 'YEARMONTH'])\n",
    "mag_sales['mag_measure'] = 1 - (mag_sales['measure'] - mag_sales['min']) / (mag_sales['max'] - mag_sales['min'])\n",
    "mag_sales = mag_sales.groupby(['Store1', 'Store2'])['mag_measure'].mean().reset_index()\n"
   ]
  },
  {
   "cell_type": "code",
   "execution_count": 22,
   "metadata": {
    "execution": {
     "iopub.execute_input": "2025-02-13T04:01:30.677017Z",
     "iopub.status.busy": "2025-02-13T04:01:30.676643Z",
     "iopub.status.idle": "2025-02-13T04:01:31.376164Z",
     "shell.execute_reply": "2025-02-13T04:01:31.375198Z",
     "shell.execute_reply.started": "2025-02-13T04:01:30.676986Z"
    }
   },
   "outputs": [],
   "source": [
    "# Calculate correlations for customers\n",
    "for store in store_numbers:\n",
    "    if store != trial_store:\n",
    "        # Create a merged dataset to ensure alignment\n",
    "        store_data = metrics[metrics['STORE_NBR'].isin([trial_store, store])].pivot(\n",
    "            index='YEARMONTH',\n",
    "            columns='STORE_NBR',\n",
    "            values='nCustomers'\n",
    "        )\n",
    "        \n",
    "        # Calculate correlation only if we have data for both stores\n",
    "        if not store_data.empty and store_data.shape[1] == 2:\n",
    "            correlation = store_data.corr().iloc[0,1]\n",
    "            \n",
    "            corr_customers = pd.concat([corr_customers, \n",
    "                                      pd.DataFrame({'Store1': [trial_store],\n",
    "                                                  'Store2': [store],\n",
    "                                                  'corr_measure': [correlation]})],\n",
    "                                     ignore_index=True)"
   ]
  },
  {
   "cell_type": "code",
   "execution_count": 23,
   "metadata": {
    "execution": {
     "iopub.execute_input": "2025-02-13T04:01:35.277456Z",
     "iopub.status.busy": "2025-02-13T04:01:35.277138Z",
     "iopub.status.idle": "2025-02-13T04:01:35.298924Z",
     "shell.execute_reply": "2025-02-13T04:01:35.297767Z",
     "shell.execute_reply.started": "2025-02-13T04:01:35.277430Z"
    }
   },
   "outputs": [],
   "source": [
    "# Standardize customers magnitude\n",
    "min_max_customers = mag_customers.groupby(['Store1', 'YEARMONTH'])['measure'].agg(['min', 'max']).reset_index()\n",
    "mag_customers = mag_customers.merge(min_max_customers, on=['Store1', 'YEARMONTH'])\n",
    "mag_customers['mag_measure'] = 1 - (mag_customers['measure'] - mag_customers['min']) / (mag_customers['max'] - mag_customers['min'])\n",
    "mag_customers = mag_customers.groupby(['Store1', 'Store2'])['mag_measure'].mean().reset_index()\n"
   ]
  },
  {
   "cell_type": "code",
   "execution_count": 24,
   "metadata": {
    "execution": {
     "iopub.execute_input": "2025-02-13T04:01:40.049963Z",
     "iopub.status.busy": "2025-02-13T04:01:40.049637Z",
     "iopub.status.idle": "2025-02-13T04:01:40.065382Z",
     "shell.execute_reply": "2025-02-13T04:01:40.064451Z",
     "shell.execute_reply.started": "2025-02-13T04:01:40.049937Z"
    }
   },
   "outputs": [],
   "source": [
    "# Step 3: Combine scores\n",
    "corr_weight = 0.5\n",
    "\n",
    "# Combine sales scores\n",
    "score_sales = corr_sales.merge(mag_sales, on=['Store1', 'Store2'])\n",
    "score_sales['score'] = corr_weight * score_sales['corr_measure'] + \\\n",
    "                      (1 - corr_weight) * score_sales['mag_measure']\n"
   ]
  },
  {
   "cell_type": "code",
   "execution_count": 25,
   "metadata": {
    "execution": {
     "iopub.execute_input": "2025-02-13T04:01:43.007820Z",
     "iopub.status.busy": "2025-02-13T04:01:43.007425Z",
     "iopub.status.idle": "2025-02-13T04:01:43.019663Z",
     "shell.execute_reply": "2025-02-13T04:01:43.018635Z",
     "shell.execute_reply.started": "2025-02-13T04:01:43.007790Z"
    }
   },
   "outputs": [],
   "source": [
    "# Combine customer scores\n",
    "score_customers = corr_customers.merge(mag_customers, on=['Store1', 'Store2'])\n",
    "score_customers['score'] = corr_weight * score_customers['corr_measure'] + \\\n",
    "                          (1 - corr_weight) * score_customers['mag_measure']\n"
   ]
  },
  {
   "cell_type": "code",
   "execution_count": 26,
   "metadata": {
    "execution": {
     "iopub.execute_input": "2025-02-13T04:01:46.038139Z",
     "iopub.status.busy": "2025-02-13T04:01:46.037792Z",
     "iopub.status.idle": "2025-02-13T04:01:46.049305Z",
     "shell.execute_reply": "2025-02-13T04:01:46.048147Z",
     "shell.execute_reply.started": "2025-02-13T04:01:46.038111Z"
    }
   },
   "outputs": [],
   "source": [
    "# Calculate final scores\n",
    "final_scores = score_sales.merge(score_customers, on=['Store1', 'Store2'], \n",
    "                               suffixes=('_sales', '_customers'))\n",
    "final_scores['final_score'] = (final_scores['score_sales'] + \n",
    "                              final_scores['score_customers']) / 2\n"
   ]
  },
  {
   "cell_type": "code",
   "execution_count": 27,
   "metadata": {
    "execution": {
     "iopub.execute_input": "2025-02-13T04:01:49.165818Z",
     "iopub.status.busy": "2025-02-13T04:01:49.165414Z",
     "iopub.status.idle": "2025-02-13T04:01:49.172979Z",
     "shell.execute_reply": "2025-02-13T04:01:49.171718Z",
     "shell.execute_reply.started": "2025-02-13T04:01:49.165785Z"
    }
   },
   "outputs": [
    {
     "name": "stdout",
     "output_type": "stream",
     "text": [
      "Selected control store for trial store 77: 2\n"
     ]
    }
   ],
   "source": [
    "# Find control store\n",
    "control_store = int(final_scores.sort_values('final_score', ascending=False).iloc[1]['Store2'])\n",
    "print(f\"Selected control store for trial store {trial_store}: {control_store}\")\n"
   ]
  },
  {
   "cell_type": "code",
   "execution_count": 28,
   "metadata": {
    "execution": {
     "iopub.execute_input": "2025-02-13T04:01:51.910265Z",
     "iopub.status.busy": "2025-02-13T04:01:51.909938Z",
     "iopub.status.idle": "2025-02-13T04:01:51.918956Z",
     "shell.execute_reply": "2025-02-13T04:01:51.917830Z",
     "shell.execute_reply.started": "2025-02-13T04:01:51.910240Z"
    }
   },
   "outputs": [],
   "source": [
    "# Step 4: Assess trial significance\n",
    "# Calculate scaling factor\n",
    "pre_trial_data = metrics[metrics['YEARMONTH'] < trial_period[0]]\n",
    "scaling_factor = (pre_trial_data[pre_trial_data['STORE_NBR'] == trial_store]['totSales'].sum() / \n",
    "                 pre_trial_data[pre_trial_data['STORE_NBR'] == control_store]['totSales'].sum())\n"
   ]
  },
  {
   "cell_type": "code",
   "execution_count": 29,
   "metadata": {
    "execution": {
     "iopub.execute_input": "2025-02-13T04:01:55.062108Z",
     "iopub.status.busy": "2025-02-13T04:01:55.061691Z",
     "iopub.status.idle": "2025-02-13T04:01:55.070963Z",
     "shell.execute_reply": "2025-02-13T04:01:55.069447Z",
     "shell.execute_reply.started": "2025-02-13T04:01:55.062076Z"
    }
   },
   "outputs": [],
   "source": [
    "# Scale control store sales\n",
    "control_data = metrics[metrics['STORE_NBR'] == control_store].copy()\n",
    "control_data['scaled_sales'] = control_data['totSales'] * scaling_factor\n"
   ]
  },
  {
   "cell_type": "code",
   "execution_count": 30,
   "metadata": {
    "execution": {
     "iopub.execute_input": "2025-02-13T04:01:58.006383Z",
     "iopub.status.busy": "2025-02-13T04:01:58.006041Z",
     "iopub.status.idle": "2025-02-13T04:01:58.018259Z",
     "shell.execute_reply": "2025-02-13T04:01:58.017201Z",
     "shell.execute_reply.started": "2025-02-13T04:01:58.006356Z"
    }
   },
   "outputs": [],
   "source": [
    "# Calculate percentage difference\n",
    "trial_data = metrics[metrics['STORE_NBR'] == trial_store]\n",
    "merged_data = trial_data.merge(control_data[['YEARMONTH', 'scaled_sales']], \n",
    "                             on='YEARMONTH', suffixes=('_trial', '_control'))\n",
    "merged_data['pct_diff'] = ((merged_data['totSales'] - merged_data['scaled_sales']) / \n",
    "                          merged_data['scaled_sales'] * 100)\n"
   ]
  },
  {
   "cell_type": "code",
   "execution_count": 31,
   "metadata": {
    "execution": {
     "iopub.execute_input": "2025-02-13T04:02:00.853935Z",
     "iopub.status.busy": "2025-02-13T04:02:00.853596Z",
     "iopub.status.idle": "2025-02-13T04:02:00.859753Z",
     "shell.execute_reply": "2025-02-13T04:02:00.858475Z",
     "shell.execute_reply.started": "2025-02-13T04:02:00.853909Z"
    }
   },
   "outputs": [],
   "source": [
    "# Calculate standard deviation of pre-trial percentage differences\n",
    "pre_trial_std = merged_data[merged_data['YEARMONTH'] < trial_period[0]]['pct_diff'].std()\n"
   ]
  },
  {
   "cell_type": "code",
   "execution_count": 32,
   "metadata": {
    "execution": {
     "iopub.execute_input": "2025-02-13T04:02:05.241031Z",
     "iopub.status.busy": "2025-02-13T04:02:05.240706Z",
     "iopub.status.idle": "2025-02-13T04:02:05.675946Z",
     "shell.execute_reply": "2025-02-13T04:02:05.674855Z",
     "shell.execute_reply.started": "2025-02-13T04:02:05.241008Z"
    }
   },
   "outputs": [
    {
     "data": {
      "image/png": "[encoded data removed]",
      "text/plain": [
       "<Figure size 1200x600 with 1 Axes>"
      ]
     },
     "metadata": {},
     "output_type": "display_data"
    }
   ],
   "source": [
    "# Step 5: Visualize results\n",
    "plt.figure(figsize=(12, 6))\n",
    "\n",
    "# Plot trial store\n",
    "plt.plot(trial_data['YEARMONTH'], trial_data['totSales'], \n",
    "         label='Trial Store', color='blue')\n",
    "\n",
    "# Plot control store\n",
    "plt.plot(control_data['YEARMONTH'], control_data['totSales'], \n",
    "         label='Control Store', color='red')\n",
    "\n",
    "# Highlight trial period\n",
    "plt.axvspan(trial_period[0], trial_period[1], alpha=0.2, color='gray')\n",
    "\n",
    "plt.title(f'Trial Assessment - Store {trial_store} vs Control Store {control_store}')\n",
    "plt.xlabel('Year-Month')\n",
    "plt.ylabel('Total Sales')\n",
    "plt.legend()\n",
    "plt.xticks(rotation=45)\n",
    "plt.tight_layout()\n",
    "\n",
    "plt.show()"
   ]
  }
 ],
 "metadata": {
  "kaggle": {
   "accelerator": "none",
   "dataSources": [
    {
     "datasetId": 6625012,
     "sourceId": 10692158,
     "sourceType": "datasetVersion"
    }
   ],
   "dockerImageVersionId": 30886,
   "isGpuEnabled": false,
   "isInternetEnabled": true,
   "language": "python",
   "sourceType": "notebook"
  },
  "kernelspec": {
   "display_name": "Python 3 (ipykernel)",
   "language": "python",
   "name": "python3"
  },
  "language_info": {
   "codemirror_mode": {
    "name": "ipython",
    "version": 3
   },
   "file_extension": ".py",
   "mimetype": "text/x-python",
   "name": "python",
   "nbconvert_exporter": "python",
   "pygments_lexer": "ipython3",
   "version": "3.12.5"
  }
 },
 "nbformat": 4,
 "nbformat_minor": 4
}
